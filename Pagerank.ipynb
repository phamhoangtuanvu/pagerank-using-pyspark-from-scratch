{
  "nbformat": 4,
  "nbformat_minor": 0,
  "metadata": {
    "colab": {
      "name": "Final Bigdata.ipynb",
      "provenance": [],
      "collapsed_sections": []
    },
    "kernelspec": {
      "name": "python3",
      "display_name": "Python 3"
    },
    "language_info": {
      "name": "python"
    }
  },
  "cells": [
    {
      "cell_type": "code",
      "execution_count": 1,
      "metadata": {
        "id": "cNHbV09dEsvp",
        "colab": {
          "base_uri": "https://localhost:8080/"
        },
        "outputId": "159dfdbf-c421-48ef-bc28-eaa6c14f8f9d"
      },
      "outputs": [
        {
          "output_type": "stream",
          "name": "stdout",
          "text": [
            "Collecting pyspark\n",
            "  Downloading pyspark-3.2.0.tar.gz (281.3 MB)\n",
            "\u001b[K     |████████████████████████████████| 281.3 MB 38 kB/s \n",
            "\u001b[?25hCollecting py4j==0.10.9.2\n",
            "  Downloading py4j-0.10.9.2-py2.py3-none-any.whl (198 kB)\n",
            "\u001b[K     |████████████████████████████████| 198 kB 56.5 MB/s \n",
            "\u001b[?25hBuilding wheels for collected packages: pyspark\n",
            "  Building wheel for pyspark (setup.py) ... \u001b[?25l\u001b[?25hdone\n",
            "  Created wheel for pyspark: filename=pyspark-3.2.0-py2.py3-none-any.whl size=281805912 sha256=0a65f87f08605291cde152d80f8de925e597433d4143ddcfb324848eae927260\n",
            "  Stored in directory: /root/.cache/pip/wheels/0b/de/d2/9be5d59d7331c6c2a7c1b6d1a4f463ce107332b1ecd4e80718\n",
            "Successfully built pyspark\n",
            "Installing collected packages: py4j, pyspark\n",
            "Successfully installed py4j-0.10.9.2 pyspark-3.2.0\n"
          ]
        }
      ],
      "source": [
        "!pip install pyspark"
      ]
    },
    {
      "cell_type": "code",
      "source": [
        "from pyspark import SparkContext,SparkConf\n",
        "from pyspark.sql import SQLContext, Row, SparkSession"
      ],
      "metadata": {
        "id": "tu6h9Aw-FCih"
      },
      "execution_count": 2,
      "outputs": []
    },
    {
      "cell_type": "code",
      "source": [
        "from google.colab import drive\n",
        "drive.mount('/content/drive')"
      ],
      "metadata": {
        "id": "ZSn9eyuDFCdK",
        "colab": {
          "base_uri": "https://localhost:8080/"
        },
        "outputId": "12be5d6f-0f5f-4572-e471-9289ea61ba92"
      },
      "execution_count": 3,
      "outputs": [
        {
          "output_type": "stream",
          "name": "stdout",
          "text": [
            "Mounted at /content/drive\n"
          ]
        }
      ]
    },
    {
      "cell_type": "code",
      "source": [
        "import math\n",
        "import time"
      ],
      "metadata": {
        "id": "_lVebUcpFFOf"
      },
      "execution_count": 4,
      "outputs": []
    },
    {
      "cell_type": "code",
      "source": [
        "# Getting the SparkContext\n",
        "conf = SparkConf().setMaster(\"local\").setAppName(\"count\")\n",
        "sc = SparkContext.getOrCreate(conf=conf)\n",
        "# Initializing the SQLContext\n",
        "sqlContext = SQLContext(sc)"
      ],
      "metadata": {
        "colab": {
          "base_uri": "https://localhost:8080/"
        },
        "id": "dDr1XJ_0FIAG",
        "outputId": "e6968ce4-6bf0-4a60-af1a-6f1ac3a4698d"
      },
      "execution_count": 5,
      "outputs": [
        {
          "output_type": "stream",
          "name": "stderr",
          "text": [
            "/usr/local/lib/python3.7/dist-packages/pyspark/sql/context.py:79: FutureWarning: Deprecated in 3.0.0. Use SparkSession.builder.getOrCreate() instead.\n",
            "  FutureWarning\n"
          ]
        }
      ]
    },
    {
      "cell_type": "code",
      "source": [
        "links_count = 6012\n",
        "beta = 0.85\n",
        "epsilon = 0.01\n",
        "url = [i+1 for i in range(links_count)]"
      ],
      "metadata": {
        "id": "kBcU_To_EqpD"
      },
      "execution_count": 6,
      "outputs": []
    },
    {
      "cell_type": "code",
      "source": [
        "set_url= sc.parallelize(url)\n",
        "ranks = set_url.map(lambda x: (x,1/links_count)).cache() #(id, pagerank_score)\n",
        "links = sc.textFile(\"drive/My Drive/STUDY/Big data/hollins_links.dat\")\\\n",
        "          .map(lambda l: l.split(' '))\\\n",
        "          .map(lambda x: (int(x[0]),int(x[1]))) #(url_id_1, url_id_2) \n",
        "link_out = links.groupByKey().mapValues(list).cache() #(url_id, [list_link_out])\n",
        "link_in = links.map(lambda x: x[1]).distinct() #(url has link in)\n",
        "url_has_no_link_in = set_url.subtract(link_in).map(lambda x: (x,0)).cache()\n",
        "\n",
        "start = time.time()\n",
        "eps=0.2\n",
        "i=1\n",
        "while (i<15) and (eps > epsilon):\n",
        "  start_ = time.time()\n",
        "  rold = ranks\n",
        "\n",
        "  #Tính r'new\n",
        "  r_new = link_out.join(ranks).values()\\\n",
        "                  .flatMap(lambda x: [(i,beta*x[1]/len(x[0])) for i in x[0]] )\\\n",
        "                  .reduceByKey(lambda x,y: x+y) \n",
        "  #ranks.unpersist()\n",
        "  #Tính phần xác suất bị mất\n",
        "  s = r_new.values().sum() \n",
        "  leak = (1-s)/links_count \n",
        "\n",
        "  ranks = r_new.union(url_has_no_link_in).mapValues(lambda x: x+leak)\n",
        "  eps = ranks.join(rold).values().map(lambda x: abs(x[0] - x[1])).sum()\n",
        "  \n",
        "  print(\"Eps: \",eps)\n",
        "  #print(ranks.takeOrdered(5, key=lambda x: -x[1]))\n",
        "  print(\"Time\",i,\":\",time.time() - start_)\n",
        "  i+=1\n",
        "\n",
        "print(\"Time: \",time.time() - start)"
      ],
      "metadata": {
        "colab": {
          "base_uri": "https://localhost:8080/"
        },
        "id": "rgA-rGD1a-QP",
        "outputId": "43f4c7fc-a5ef-4e2c-8090-23102d482dde"
      },
      "execution_count": 18,
      "outputs": [
        {
          "output_type": "stream",
          "name": "stdout",
          "text": [
            "Eps:  0.4907346158919128\n",
            "Time 1 : 1.640383005142212\n",
            "Eps:  0.2001414571754684\n",
            "Time 2 : 1.6827895641326904\n",
            "Eps:  0.10807245253066153\n",
            "Time 3 : 2.514404535293579\n",
            "Eps:  0.0667821351712067\n",
            "Time 4 : 3.7230637073516846\n",
            "Eps:  0.04340338585792096\n",
            "Time 5 : 4.167089462280273\n",
            "Eps:  0.029440978484413557\n",
            "Time 6 : 5.321201801300049\n",
            "Eps:  0.020446198053264995\n",
            "Time 7 : 7.456078052520752\n",
            "Eps:  0.014266703187545172\n",
            "Time 8 : 8.57223129272461\n",
            "Eps:  0.010466823189697598\n",
            "Time 9 : 10.52560305595398\n",
            "Eps:  0.007672454147727572\n",
            "Time 10 : 11.537799835205078\n",
            "Time:  57.148226261138916\n"
          ]
        }
      ]
    },
    {
      "cell_type": "code",
      "source": [
        "ranks.values().sum()"
      ],
      "metadata": {
        "colab": {
          "base_uri": "https://localhost:8080/"
        },
        "id": "R3WzVa3hb1jR",
        "outputId": "48dcd7b5-b8de-456a-dac8-3f5d07394986"
      },
      "execution_count": 19,
      "outputs": [
        {
          "output_type": "execute_result",
          "data": {
            "text/plain": [
              "1.000000000000001"
            ]
          },
          "metadata": {},
          "execution_count": 19
        }
      ]
    },
    {
      "cell_type": "code",
      "source": [
        "ranks.takeOrdered(10, key=lambda x: -x[1])"
      ],
      "metadata": {
        "colab": {
          "base_uri": "https://localhost:8080/"
        },
        "id": "lXaZxV-5Yv-C",
        "outputId": "c088a5a8-4925-4d4c-c483-245642d51866"
      },
      "execution_count": 20,
      "outputs": [
        {
          "output_type": "execute_result",
          "data": {
            "text/plain": [
              "[(2, 0.020342191497028476),\n",
              " (37, 0.009487375773207355),\n",
              " (38, 0.008793044100898852),\n",
              " (61, 0.008237781057141935),\n",
              " (52, 0.008202176317816513),\n",
              " (43, 0.007310230608262429),\n",
              " (425, 0.0067090378160536614),\n",
              " (27, 0.006121903841048367),\n",
              " (28, 0.0057035523731509),\n",
              " (29, 0.004470489627716423)]"
            ]
          },
          "metadata": {},
          "execution_count": 20
        }
      ]
    }
  ]
}